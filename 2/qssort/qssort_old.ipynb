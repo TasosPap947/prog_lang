{
 "cells": [
  {
   "cell_type": "code",
   "execution_count": 24,
   "id": "6c3c4272",
   "metadata": {},
   "outputs": [
    {
     "name": "stdout",
     "output_type": "stream",
     "text": [
      "[7, 17, 3, 42]\n"
     ]
    }
   ],
   "source": [
    "default = True\n",
    "default_name = \"qs1.txt\"\n",
    "filename = default_name if default else input() \n",
    "f = open(filename, \"r\")\n",
    "N = f.readline()\n",
    "l = f.readline().split()\n",
    "l = [int(i) for i in l]\n",
    "print(l)"
   ]
  },
  {
   "cell_type": "code",
   "execution_count": 75,
   "id": "ccb3ff76",
   "metadata": {},
   "outputs": [
    {
     "name": "stdout",
     "output_type": "stream",
     "text": [
      "deque([17, 3, 42]) deque([7])\n",
      "deque([17, 3, 42, 7]) deque([])\n",
      "Not found\n"
     ]
    }
   ],
   "source": [
    "from collections import deque\n",
    "import copy\n",
    "\n",
    "Q = deque(l)\n",
    "S = deque()\n",
    "states = deque()\n",
    "\n",
    "init = (Q,S)\n",
    "states.append(init)\n",
    "\n",
    "def nextQ(Q, S):\n",
    "    x = Q.popleft()\n",
    "    S.append(x)\n",
    "    return (Q, S)\n",
    "    \n",
    "def nextS(Q, S):\n",
    "    x = S.pop()\n",
    "    Q.append(x)\n",
    "    return (Q, S)\n",
    "\n",
    "prev = [init]\n",
    "\n",
    "def sorted(L):\n",
    "    for i in range(len(L)-1):\n",
    "        if L[i] > L[i+1]:\n",
    "            return False\n",
    "    return True\n",
    "\n",
    "counter = 0\n",
    "while states and counter < 1000:\n",
    "    counter += 1\n",
    "    \n",
    "    TestQ = states.popleft()[0]\n",
    "    if sorted(TestQ):\n",
    "        print(\"Done\")\n",
    "        break\n",
    "    if Q:\n",
    "        (Qnext, Snext) = nextQ(Q, S)\n",
    "        print(Qnext, Snext)\n",
    "        if (Qnext, Snext) not in prev: \n",
    "            states.append((Qnext, Snext))\n",
    "    if S:\n",
    "        (Qnext, Snext) = nextS(Q, S)\n",
    "        print(Qnext, Snext)\n",
    "        if (Qnext, Snext) not in prev: \n",
    "            states.append((Qnext, Snext))\n",
    "    \n",
    "print(\"Not found\")"
   ]
  }
 ],
 "metadata": {
  "kernelspec": {
   "display_name": "Python 3",
   "language": "python",
   "name": "python3"
  },
  "language_info": {
   "codemirror_mode": {
    "name": "ipython",
    "version": 3
   },
   "file_extension": ".py",
   "mimetype": "text/x-python",
   "name": "python",
   "nbconvert_exporter": "python",
   "pygments_lexer": "ipython3",
   "version": "3.9.5"
  }
 },
 "nbformat": 4,
 "nbformat_minor": 5
}
